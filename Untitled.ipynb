{
 "cells": [
  {
   "cell_type": "code",
   "execution_count": 3,
   "id": "7a3e0641",
   "metadata": {},
   "outputs": [],
   "source": [
    "import os\n",
    "\n",
    "folder_path = \"images/photos/\"\n",
    "gallery_html = \"\"\n",
    "\n",
    "# 遍历文件夹中的文件\n",
    "for filename in os.listdir(folder_path):\n",
    "    if filename.endswith(\".jpg\") or filename.endswith(\".png\"):\n",
    "        image_path = os.path.join(folder_path, filename)\n",
    "        gallery_html += f'<img src=\"{image_path}\">'\n",
    "# 生成HTML文件\n",
    "html_content = f\"\"\"\n",
    "<!DOCTYPE html>\n",
    "<html>\n",
    "<head>\n",
    "  <style>\n",
    "    .gallery {{\n",
    "      display: flex;\n",
    "      flex-wrap: wrap;\n",
    "      justify-content: center;\n",
    "      align-items: center;\n",
    "      gap: 20px;\n",
    "      max-width: 800px;\n",
    "      margin: 0 auto;\n",
    "    }}\n",
    "    .gallery img {{\n",
    "      width: 200px;\n",
    "      height: 200px;\n",
    "      object-fit: cover;\n",
    "    }}\n",
    "  </style>\n",
    "</head>\n",
    "<body>\n",
    "  <div class=\"gallery\">\n",
    "    {gallery_html}\n",
    "  </div>\n",
    "</body>\n",
    "</html>\n",
    "\"\"\"\n",
    "\n",
    "# 将HTML内容保存到文件\n",
    "with open(\"gallery.html\", \"w\") as file:\n",
    "    file.write(html_content)"
   ]
  },
  {
   "cell_type": "code",
   "execution_count": null,
   "id": "9c98059f",
   "metadata": {},
   "outputs": [],
   "source": []
  }
 ],
 "metadata": {
  "kernelspec": {
   "display_name": "Python 3 (ipykernel)",
   "language": "python",
   "name": "python3"
  },
  "language_info": {
   "codemirror_mode": {
    "name": "ipython",
    "version": 3
   },
   "file_extension": ".py",
   "mimetype": "text/x-python",
   "name": "python",
   "nbconvert_exporter": "python",
   "pygments_lexer": "ipython3",
   "version": "3.9.12"
  }
 },
 "nbformat": 4,
 "nbformat_minor": 5
}
